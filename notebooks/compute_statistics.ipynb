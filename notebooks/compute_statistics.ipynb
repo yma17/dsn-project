{
 "cells": [
  {
   "cell_type": "code",
   "execution_count": 61,
   "id": "6631f97c",
   "metadata": {},
   "outputs": [],
   "source": [
    "import os\n",
    "import pandas as pd\n",
    "import numpy as np\n",
    "import matplotlib.pyplot as plt\n",
    "join = os.path.join"
   ]
  },
  {
   "cell_type": "code",
   "execution_count": 62,
   "id": "6f1e8930",
   "metadata": {},
   "outputs": [],
   "source": [
    "# Load data files\n",
    "root_path = \"./../data/tmp\"\n",
    "df_video = pd.read_csv(join(root_path, \"baseline1_final.csv\"), sep='\\t')\n",
    "df_channel = pd.read_csv(join(root_path, \"baseline_final_channels.csv\"), sep='\\t')"
   ]
  },
  {
   "cell_type": "code",
   "execution_count": 8,
   "id": "94cd15ce",
   "metadata": {},
   "outputs": [
    {
     "data": {
      "text/html": [
       "<div>\n",
       "<style scoped>\n",
       "    .dataframe tbody tr th:only-of-type {\n",
       "        vertical-align: middle;\n",
       "    }\n",
       "\n",
       "    .dataframe tbody tr th {\n",
       "        vertical-align: top;\n",
       "    }\n",
       "\n",
       "    .dataframe thead th {\n",
       "        text-align: right;\n",
       "    }\n",
       "</style>\n",
       "<table border=\"1\" class=\"dataframe\">\n",
       "  <thead>\n",
       "    <tr style=\"text-align: right;\">\n",
       "      <th></th>\n",
       "      <th>caption</th>\n",
       "      <th>title</th>\n",
       "      <th>label</th>\n",
       "      <th>video_id</th>\n",
       "    </tr>\n",
       "  </thead>\n",
       "  <tbody>\n",
       "    <tr>\n",
       "      <th>0</th>\n",
       "      <td>it happened outside waco texas a heavily armed...</td>\n",
       "      <td>the shadow of waco  retro report  the new york...</td>\n",
       "      <td>0</td>\n",
       "      <td>hOW9AjskoOo</td>\n",
       "    </tr>\n",
       "    <tr>\n",
       "      <th>1</th>\n",
       "      <td>thanks for coming its nice to see a good turno...</td>\n",
       "      <td>former abortionist dr levatino destroys procho...</td>\n",
       "      <td>0</td>\n",
       "      <td>dIRcw45n9RU</td>\n",
       "    </tr>\n",
       "    <tr>\n",
       "      <th>2</th>\n",
       "      <td>tonight  i donald john trump do solemnly swear...</td>\n",
       "      <td>trumps road to the white house full film  fron...</td>\n",
       "      <td>0</td>\n",
       "      <td>SMwXKl0odq8</td>\n",
       "    </tr>\n",
       "    <tr>\n",
       "      <th>3</th>\n",
       "      <td>this week on buzzfeed unsolved we discuss the...</td>\n",
       "      <td>the strange disappearance of db cooper</td>\n",
       "      <td>0</td>\n",
       "      <td>oHSehKtDyoI</td>\n",
       "    </tr>\n",
       "    <tr>\n",
       "      <th>4</th>\n",
       "      <td>im mason noise im 22 and im from birmingham wh...</td>\n",
       "      <td>shockingly offensive auditions have simon cowe...</td>\n",
       "      <td>0</td>\n",
       "      <td>N9COy7O7K-U</td>\n",
       "    </tr>\n",
       "  </tbody>\n",
       "</table>\n",
       "</div>"
      ],
      "text/plain": [
       "                                             caption  \\\n",
       "0  it happened outside waco texas a heavily armed...   \n",
       "1  thanks for coming its nice to see a good turno...   \n",
       "2  tonight  i donald john trump do solemnly swear...   \n",
       "3   this week on buzzfeed unsolved we discuss the...   \n",
       "4  im mason noise im 22 and im from birmingham wh...   \n",
       "\n",
       "                                               title  label     video_id  \n",
       "0  the shadow of waco  retro report  the new york...      0  hOW9AjskoOo  \n",
       "1  former abortionist dr levatino destroys procho...      0  dIRcw45n9RU  \n",
       "2  trumps road to the white house full film  fron...      0  SMwXKl0odq8  \n",
       "3             the strange disappearance of db cooper      0  oHSehKtDyoI  \n",
       "4  shockingly offensive auditions have simon cowe...      0  N9COy7O7K-U  "
      ]
     },
     "execution_count": 8,
     "metadata": {},
     "output_type": "execute_result"
    }
   ],
   "source": [
    "df_video.head()"
   ]
  },
  {
   "cell_type": "code",
   "execution_count": 9,
   "id": "5b7865c3",
   "metadata": {},
   "outputs": [
    {
     "data": {
      "text/html": [
       "<div>\n",
       "<style scoped>\n",
       "    .dataframe tbody tr th:only-of-type {\n",
       "        vertical-align: middle;\n",
       "    }\n",
       "\n",
       "    .dataframe tbody tr th {\n",
       "        vertical-align: top;\n",
       "    }\n",
       "\n",
       "    .dataframe thead th {\n",
       "        text-align: right;\n",
       "    }\n",
       "</style>\n",
       "<table border=\"1\" class=\"dataframe\">\n",
       "  <thead>\n",
       "    <tr style=\"text-align: right;\">\n",
       "      <th></th>\n",
       "      <th>channel_id</th>\n",
       "      <th>video_ids</th>\n",
       "    </tr>\n",
       "  </thead>\n",
       "  <tbody>\n",
       "    <tr>\n",
       "      <th>0</th>\n",
       "      <td>UCqnbDFdCpuN8CMEg0VuEBqA</td>\n",
       "      <td>hOW9AjskoOo,uJ44spUo8Uk,-O_DMyHdq_M,U_hbIPJuia...</td>\n",
       "    </tr>\n",
       "    <tr>\n",
       "      <th>1</th>\n",
       "      <td>UCfkzsfj7Go1Q_kRFZmJptsw</td>\n",
       "      <td>dIRcw45n9RU</td>\n",
       "    </tr>\n",
       "    <tr>\n",
       "      <th>2</th>\n",
       "      <td>UC3ScyryU9Oy9Wse3a8OAmYQ</td>\n",
       "      <td>SMwXKl0odq8,AW0gsP3EgDI</td>\n",
       "    </tr>\n",
       "    <tr>\n",
       "      <th>3</th>\n",
       "      <td>UCKijjvu6bN1c-ZHVwR7-5WA</td>\n",
       "      <td>oHSehKtDyoI,lDeFSOUHdH4,cDZweMXXY6Y,p2EUZ-gwe6...</td>\n",
       "    </tr>\n",
       "    <tr>\n",
       "      <th>4</th>\n",
       "      <td>UC6my_lD3kBECBifeq0n2mdg</td>\n",
       "      <td>N9COy7O7K-U,DHwpwD-ae7I,74fTHh6jB5Q</td>\n",
       "    </tr>\n",
       "  </tbody>\n",
       "</table>\n",
       "</div>"
      ],
      "text/plain": [
       "                 channel_id                                          video_ids\n",
       "0  UCqnbDFdCpuN8CMEg0VuEBqA  hOW9AjskoOo,uJ44spUo8Uk,-O_DMyHdq_M,U_hbIPJuia...\n",
       "1  UCfkzsfj7Go1Q_kRFZmJptsw                                        dIRcw45n9RU\n",
       "2  UC3ScyryU9Oy9Wse3a8OAmYQ                            SMwXKl0odq8,AW0gsP3EgDI\n",
       "3  UCKijjvu6bN1c-ZHVwR7-5WA  oHSehKtDyoI,lDeFSOUHdH4,cDZweMXXY6Y,p2EUZ-gwe6...\n",
       "4  UC6my_lD3kBECBifeq0n2mdg                N9COy7O7K-U,DHwpwD-ae7I,74fTHh6jB5Q"
      ]
     },
     "execution_count": 9,
     "metadata": {},
     "output_type": "execute_result"
    }
   ],
   "source": [
    "df_channel.head()"
   ]
  },
  {
   "cell_type": "code",
   "execution_count": 66,
   "id": "3abb62db",
   "metadata": {},
   "outputs": [],
   "source": [
    "# note: hardcoded\n",
    "TOPICS = [\"9/11\", \"chemtrails\", \"flatearth\", \"moonlanding\", \"vaccines\"]\n",
    "TOPIC_LIMITS = [0, 430, 901, 1214, 1530, 2120]"
   ]
  },
  {
   "cell_type": "markdown",
   "id": "93fb2fcc",
   "metadata": {},
   "source": [
    "### Count (overall / by topic)"
   ]
  },
  {
   "cell_type": "code",
   "execution_count": 20,
   "id": "e25d49b9",
   "metadata": {},
   "outputs": [
    {
     "name": "stdout",
     "output_type": "stream",
     "text": [
      "Num videos (total) = 2120\n",
      "Num videos for 9/11 = 430\n",
      "Num videos for chemtrails = 471\n",
      "Num videos for flatearth = 313\n",
      "Num videos for moonlanding = 316\n",
      "Num videos for vaccines = 590\n",
      "Num channels (total) = 884\n",
      "Num channels for 9/11 = 213\n",
      "Num channels for chemtrails = 297\n",
      "Num channels for flatearth = 155\n",
      "Num channels for moonlanding = 210\n",
      "Num channels for vaccines = 243\n"
     ]
    }
   ],
   "source": [
    "# Number of videos, channels\n",
    "\n",
    "videos = df_video[\"video_id\"].to_list()\n",
    "print(\"Num videos (total) =\", len(videos))\n",
    "for i in range(len(TOPICS)):\n",
    "    print(\"Num videos for\", TOPICS[i], \"=\", TOPIC_LIMITS[i + 1] - TOPIC_LIMITS[i])\n",
    "\n",
    "channels = df_channel[\"channel_id\"].to_list()\n",
    "vids_by_channel = df_channel[\"video_ids\"].to_list()\n",
    "print(\"Num channels (total) =\", len(vids_by_channel))\n",
    "for i in range(len(TOPICS)):\n",
    "    video_i = videos[TOPIC_LIMITS[i]:TOPIC_LIMITS[i + 1]]\n",
    "    count = 0\n",
    "    c_set = set()\n",
    "    for v in video_i:\n",
    "        for (c, v2) in zip(channels, vids_by_channel):\n",
    "            if v in v2:\n",
    "                c_set.add(c)\n",
    "                break\n",
    "    print(\"Num channels for\", TOPICS[i], \"=\", len(c_set))"
   ]
  },
  {
   "cell_type": "code",
   "execution_count": 68,
   "id": "36e9070b",
   "metadata": {},
   "outputs": [
    {
     "name": "stdout",
     "output_type": "stream",
     "text": [
      "For 9/11 = 27 misinfo channels\n",
      "For chemtrails = 113 misinfo channels\n",
      "For flatearth = 12 misinfo channels\n",
      "For moonlanding = 18 misinfo channels\n",
      "For vaccines = 18 misinfo channels\n"
     ]
    }
   ],
   "source": [
    "# Number of misinfo channels\n",
    "\n",
    "videos = df_video[\"video_id\"].to_list()\n",
    "\n",
    "for i in range(len(TOPICS)):\n",
    "    video_i = videos[TOPIC_LIMITS[i]:TOPIC_LIMITS[i + 1]]\n",
    "    df_sub = df_video[df_video[\"video_id\"].isin(video_i)]\n",
    "    video_misinfo = df_sub[df_sub[\"label\"] == 1][\"video_id\"].to_list()\n",
    "    \n",
    "    count = 0\n",
    "    for vid_ids in df_channel[\"video_ids\"]:\n",
    "        l = vid_ids.split(\",\")\n",
    "        for k in l:\n",
    "            if k in video_misinfo:\n",
    "                count += 1\n",
    "                break\n",
    "    print(\"For\", TOPICS[i], \"=\", count, \"misinfo channels\")"
   ]
  },
  {
   "cell_type": "code",
   "execution_count": 21,
   "id": "c8761ead",
   "metadata": {},
   "outputs": [
    {
     "name": "stdout",
     "output_type": "stream",
     "text": [
      "Overall: 249 misinfo, 1871 nonmisinfo\n",
      "For 9/11 = 48 misinfo, 382 nonmisinfo\n",
      "For chemtrails = 131 misinfo, 340 nonmisinfo\n",
      "For flatearth = 20 misinfo, 293 nonmisinfo\n",
      "For moonlanding = 21 misinfo, 295 nonmisinfo\n",
      "For vaccines = 29 misinfo, 561 nonmisinfo\n"
     ]
    }
   ],
   "source": [
    "# Breakdown by class label\n",
    "\n",
    "labels = df_video[\"label\"].to_numpy()\n",
    "misinfo = np.count_nonzero(labels == 1)\n",
    "nonmisinfo = labels.shape[0] - misinfo\n",
    "print(\"Overall:\", misinfo, \"misinfo,\", nonmisinfo, \"nonmisinfo\")\n",
    "for i in range(len(TOPICS)):\n",
    "    labels_i = labels[TOPIC_LIMITS[i]:TOPIC_LIMITS[i + 1]]\n",
    "    misinfo = np.count_nonzero(labels_i == 1)\n",
    "    nonmisinfo = labels_i.shape[0] - misinfo\n",
    "    print(\"For\", TOPICS[i], \"=\", misinfo, \"misinfo,\", nonmisinfo, \"nonmisinfo\")"
   ]
  },
  {
   "cell_type": "markdown",
   "id": "dcdac46a",
   "metadata": {},
   "source": [
    "### Compute mean/std/min/max"
   ]
  },
  {
   "cell_type": "code",
   "execution_count": 22,
   "id": "47613c96",
   "metadata": {},
   "outputs": [
    {
     "name": "stdout",
     "output_type": "stream",
     "text": [
      "Number of videos per channel (mean,std,min,max):\n"
     ]
    },
    {
     "data": {
      "text/plain": [
       "(2.3891402714932126, 4.220738465898886, 1, 48)"
      ]
     },
     "execution_count": 22,
     "metadata": {},
     "output_type": "execute_result"
    }
   ],
   "source": [
    "# Number of videos per channel\n",
    "counts = []\n",
    "for vid_ids in df_channel[\"video_ids\"]:\n",
    "    counts += [len(vid_ids.split(\",\"))]\n",
    "counts = np.array(counts)\n",
    "print(\"Number of videos per channel (mean,std,min,max):\")\n",
    "counts.mean(), counts.std(), counts.min(), counts.max()"
   ]
  },
  {
   "cell_type": "code",
   "execution_count": 23,
   "id": "04f12470",
   "metadata": {},
   "outputs": [
    {
     "name": "stdout",
     "output_type": "stream",
     "text": [
      "Number of tokens per caption (mean,std,min,max):\n"
     ]
    },
    {
     "data": {
      "text/plain": [
       "(2616.7466981132075, 3005.3027773386934, 1, 27496)"
      ]
     },
     "execution_count": 23,
     "metadata": {},
     "output_type": "execute_result"
    }
   ],
   "source": [
    "# Number of tokens per caption\n",
    "counts = []\n",
    "for caption in df_video[\"caption\"]:\n",
    "    counts += [len(caption.split(\" \"))]\n",
    "counts = np.array(counts)\n",
    "print(\"Number of tokens per caption (mean,std,min,max):\")\n",
    "counts.mean(), counts.std(), counts.min(), counts.max()"
   ]
  },
  {
   "cell_type": "code",
   "execution_count": 60,
   "id": "330ddd24",
   "metadata": {},
   "outputs": [
    {
     "name": "stdout",
     "output_type": "stream",
     "text": [
      "Proportion of misinfo videos per channel (mean,std,min,max):\n",
      "0.4259378628943846 0.30812635678121475 0.043478260869565216 1.0\n",
      "Number of pairs: 666\n"
     ]
    },
    {
     "data": {
      "text/plain": [
       "(array([258., 125., 150.,  85.,  48.]),\n",
       " array([0. , 0.2, 0.4, 0.6, 0.8, 1. ]),\n",
       " <BarContainer object of 5 artists>)"
      ]
     },
     "execution_count": 60,
     "metadata": {},
     "output_type": "execute_result"
    },
    {
     "data": {
      "image/png": "[encoded data removed]",
      "text/plain": [
       "<Figure size 432x288 with 1 Axes>"
      ]
     },
     "metadata": {
      "needs_background": "light"
     },
     "output_type": "display_data"
    }
   ],
   "source": [
    "# Proportion of misinfo videos for channels with misinfo\n",
    "# Needs to have 3+ videos\n",
    "video_list = df_video[\"video_id\"].to_list()\n",
    "video_misinfo = df_video[df_video[\"label\"] == 1][\"video_id\"].to_list()\n",
    "p = []\n",
    "for vid_ids in df_channel[\"video_ids\"]:\n",
    "    l = vid_ids.split(\",\")\n",
    "    t = 0\n",
    "    n = 0\n",
    "    for k in l:\n",
    "        if k in video_list:\n",
    "            n += 1\n",
    "        if k in video_misinfo:\n",
    "            t += 1\n",
    "    if n < 3 or t == 0:\n",
    "    #if n < 3:\n",
    "        continue\n",
    "    p += [t / n]\n",
    "p = np.array(p)\n",
    "print(\"Proportion of misinfo videos per channel (mean,std,min,max):\")\n",
    "print(p.mean(), p.std(), p.min(), p.max())\n",
    "#plt.hist(p, bins=[i * 0.1 for i in range(11)])\n",
    "q = []\n",
    "for i, x in enumerate(p):\n",
    "    for j, y in enumerate(p[i+1:]):\n",
    "        q += [abs(x - y)]\n",
    "    #for j, y in enumerate(p):\n",
    "        #if i != j and x == 0 and y > 0.0:\n",
    "        #    q += [abs(x - y)]\n",
    "print(\"Number of pairs:\", len(q))\n",
    "plt.hist(q, bins=[i * 0.2 for i in range(6)])"
   ]
  },
  {
   "cell_type": "code",
   "execution_count": 65,
   "id": "a51097b5",
   "metadata": {},
   "outputs": [
    {
     "name": "stdout",
     "output_type": "stream",
     "text": [
      "Number of misinfo videos per channel (mean,std,min,max):\n",
      "0.27714932126696834 0.7206539390547344 0 10\n",
      "Number of channels with at least one misinformation video:\n",
      "180\n"
     ]
    }
   ],
   "source": [
    "# Number of misinfo videos (all channels)\n",
    "video_list = df_video[\"video_id\"].to_list()\n",
    "video_misinfo = df_video[df_video[\"label\"] == 1][\"video_id\"].to_list()\n",
    "p = []\n",
    "for vid_ids in df_channel[\"video_ids\"]:\n",
    "    l = vid_ids.split(\",\")\n",
    "    t = 0\n",
    "    for k in l:\n",
    "        if k in video_misinfo:\n",
    "            t += 1\n",
    "    p += [t]\n",
    "p = np.array(p)\n",
    "print(\"Number of misinfo videos per channel (mean,std,min,max):\")\n",
    "print(p.mean(), p.std(), p.min(), p.max())\n",
    "print(\"Number of channels with at least one misinformation video:\")\n",
    "print(np.count_nonzero(p))"
   ]
  },
  {
   "cell_type": "markdown",
   "id": "39fe9e15",
   "metadata": {},
   "source": [
    "### Other relevant statistics"
   ]
  },
  {
   "cell_type": "code",
   "execution_count": 25,
   "id": "ff97927b",
   "metadata": {},
   "outputs": [
    {
     "name": "stdout",
     "output_type": "stream",
     "text": [
      "Channels with 1 vid or more: 884\n",
      "Channels with 2 vid or more: 268\n",
      "Channels with 3 vid or more: 162\n",
      "Channels with 4 vid or more: 107\n",
      "Channels with 5 vid or more: 86\n",
      "Channels with 6 vid or more: 69\n",
      "Channels with 7 vid or more: 62\n",
      "Channels with 8 vid or more: 55\n",
      "Channels with 9 vid or more: 48\n",
      "Channels with 10 vid or more: 39\n",
      "Channels with 11 vid or more: 38\n",
      "Channels with 12 vid or more: 36\n",
      "Channels with 13 vid or more: 32\n",
      "Channels with 14 vid or more: 27\n",
      "Channels with 15 vid or more: 19\n",
      "Channels with 16 vid or more: 17\n",
      "Channels with 17 vid or more: 15\n",
      "Channels with 18 vid or more: 12\n",
      "Channels with 19 vid or more: 12\n",
      "Channels with 20 vid or more: 10\n",
      "Channels with 21 vid or more: 9\n",
      "Channels with 22 vid or more: 9\n",
      "Channels with 23 vid or more: 7\n",
      "Channels with 24 vid or more: 7\n",
      "Channels with 25 vid or more: 7\n",
      "Channels with 26 vid or more: 5\n",
      "Channels with 27 vid or more: 5\n",
      "Channels with 28 vid or more: 5\n",
      "Channels with 29 vid or more: 5\n",
      "Channels with 30 vid or more: 4\n",
      "Channels with 31 vid or more: 4\n",
      "Channels with 32 vid or more: 4\n",
      "Channels with 33 vid or more: 4\n",
      "Channels with 34 vid or more: 4\n",
      "Channels with 35 vid or more: 4\n",
      "Channels with 36 vid or more: 4\n",
      "Channels with 37 vid or more: 4\n",
      "Channels with 38 vid or more: 4\n",
      "Channels with 39 vid or more: 3\n",
      "Channels with 40 vid or more: 2\n",
      "Channels with 41 vid or more: 2\n",
      "Channels with 42 vid or more: 2\n",
      "Channels with 43 vid or more: 2\n",
      "Channels with 44 vid or more: 2\n",
      "Channels with 45 vid or more: 2\n",
      "Channels with 46 vid or more: 2\n",
      "Channels with 47 vid or more: 1\n",
      "Channels with 48 vid or more: 1\n"
     ]
    }
   ],
   "source": [
    "# Number of videos per channel (more detailed)\n",
    "counts = {}\n",
    "for _, row in df_channel.iterrows():\n",
    "    vid_ids = row[\"video_ids\"].split(',')\n",
    "    counts[len(vid_ids)] = counts.get(len(vid_ids), 0) + 1\n",
    "x = len(df_channel)\n",
    "for i in range(1, 49):\n",
    "    print(\"Channels with\", i, \"vid or more:\", x)\n",
    "    if i in counts.keys():\n",
    "        x -= counts[i]"
   ]
  },
  {
   "cell_type": "code",
   "execution_count": 27,
   "id": "cbcba607",
   "metadata": {},
   "outputs": [
    {
     "data": {
      "text/plain": [
       "74247"
      ]
     },
     "execution_count": 27,
     "metadata": {},
     "output_type": "execute_result"
    }
   ],
   "source": [
    "# Vocabulary size\n",
    "vocab = set()\n",
    "for caption in df_video[\"caption\"]:\n",
    "    tokens = caption.split(\" \")\n",
    "    for token in tokens:\n",
    "        vocab.add(token)\n",
    "len(vocab)"
   ]
  }
 ],
 "metadata": {
  "kernelspec": {
   "display_name": "Python 3 (ipykernel)",
   "language": "python",
   "name": "python3"
  },
  "language_info": {
   "codemirror_mode": {
    "name": "ipython",
    "version": 3
   },
   "file_extension": ".py",
   "mimetype": "text/x-python",
   "name": "python",
   "nbconvert_exporter": "python",
   "pygments_lexer": "ipython3",
   "version": "3.8.12"
  }
 },
 "nbformat": 4,
 "nbformat_minor": 5
}
