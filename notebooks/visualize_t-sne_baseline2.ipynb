{
 "cells": [
  {
   "cell_type": "code",
   "execution_count": 1,
   "id": "2c2ca336",
   "metadata": {},
   "outputs": [],
   "source": [
    "# Import libraries\n",
    "import os\n",
    "import numpy as np\n",
    "from sklearn.manifold import TSNE\n",
    "import pandas as pd\n",
    "import matplotlib.pyplot as plt\n",
    "join = os.path.join"
   ]
  },
  {
   "cell_type": "code",
   "execution_count": null,
   "id": "d9ab529b",
   "metadata": {},
   "outputs": [],
   "source": [
    "# Get working version of scikit-learn\n",
    "!pip install scikit-learn==1.0"
   ]
  },
  {
   "cell_type": "code",
   "execution_count": 2,
   "id": "82eb1b8b",
   "metadata": {},
   "outputs": [],
   "source": [
    "#filepath = \"../\"\n",
    "filepath = \"../data/tmp\""
   ]
  },
  {
   "cell_type": "code",
   "execution_count": 3,
   "id": "a37a4a76",
   "metadata": {},
   "outputs": [],
   "source": [
    "# Load baseline 2 data\n",
    "\n",
    "video2_csv = \"baseline2_videos.csv\"\n",
    "title2_npy = \"title_embedd_2.npy\"\n",
    "caption2_csv = \"caption_embedd_2.csv\"\n",
    "caption2_npy = \"caption_embedd_2.npy\"\n",
    "comment2_csv = \"comment_embedd_2.csv\"\n",
    "comment2_npy = \"comments_embedd_2.npy\"\n",
    "\n",
    "df_video2 = pd.read_csv(join(filepath, video2_csv), sep='\\t')\n",
    "df_caption2 = pd.read_csv(join(filepath, caption2_csv))\n",
    "df_comment2 = pd.read_csv(join(filepath, comment2_csv))\n",
    "title2 = np.load(join(filepath, title2_npy), allow_pickle=True)\n",
    "caption2 = np.load(join(filepath, caption2_npy), allow_pickle=True)\n",
    "comment2 = np.load(join(filepath, comment2_npy), allow_pickle=True)\n",
    "\n",
    "df_video2 = df_video2.set_index('video_id')"
   ]
  },
  {
   "cell_type": "code",
   "execution_count": 4,
   "id": "903a6fb2",
   "metadata": {},
   "outputs": [
    {
     "name": "stdout",
     "output_type": "stream",
     "text": [
      "80\n"
     ]
    },
    {
     "data": {
      "text/html": [
       "<div>\n",
       "<style scoped>\n",
       "    .dataframe tbody tr th:only-of-type {\n",
       "        vertical-align: middle;\n",
       "    }\n",
       "\n",
       "    .dataframe tbody tr th {\n",
       "        vertical-align: top;\n",
       "    }\n",
       "\n",
       "    .dataframe thead th {\n",
       "        text-align: right;\n",
       "    }\n",
       "</style>\n",
       "<table border=\"1\" class=\"dataframe\">\n",
       "  <thead>\n",
       "    <tr style=\"text-align: right;\">\n",
       "      <th></th>\n",
       "      <th>Unnamed: 0</th>\n",
       "      <th>percentage_conspiracy</th>\n",
       "      <th>misinformation</th>\n",
       "      <th>title</th>\n",
       "      <th>number_comments</th>\n",
       "      <th>captions</th>\n",
       "    </tr>\n",
       "    <tr>\n",
       "      <th>video_id</th>\n",
       "      <th></th>\n",
       "      <th></th>\n",
       "      <th></th>\n",
       "      <th></th>\n",
       "      <th></th>\n",
       "      <th></th>\n",
       "    </tr>\n",
       "  </thead>\n",
       "  <tbody>\n",
       "    <tr>\n",
       "      <th>0jmhj-vnl5E</th>\n",
       "      <td>1</td>\n",
       "      <td>0.175439</td>\n",
       "      <td>1</td>\n",
       "      <td>Is Wuhan virus a hit job? A whodunit not to mi...</td>\n",
       "      <td>114</td>\n",
       "      <td>good morning everybody this is Jeff J Browne C...</td>\n",
       "    </tr>\n",
       "    <tr>\n",
       "      <th>1cWvGnF6_dw</th>\n",
       "      <td>3</td>\n",
       "      <td>0.153846</td>\n",
       "      <td>1</td>\n",
       "      <td>The Book that Predicted the Wuhan Coronavirus:...</td>\n",
       "      <td>52</td>\n",
       "      <td>king at the bar book news or books teacher at ...</td>\n",
       "    </tr>\n",
       "    <tr>\n",
       "      <th>3DAI3c9wE0Q</th>\n",
       "      <td>4</td>\n",
       "      <td>0.225564</td>\n",
       "      <td>1</td>\n",
       "      <td>Prof. Francis Boyle  Update on Coronavirus Bio...</td>\n",
       "      <td>1198</td>\n",
       "      <td>I think I found the smoking gun here uh there ...</td>\n",
       "    </tr>\n",
       "    <tr>\n",
       "      <th>4G1LTpm1pkw</th>\n",
       "      <td>6</td>\n",
       "      <td>0.128049</td>\n",
       "      <td>1</td>\n",
       "      <td>God says  Coronavirus is NOT!  2020  by Warren...</td>\n",
       "      <td>164</td>\n",
       "      <td>the the coronavirus and what does the Lord say...</td>\n",
       "    </tr>\n",
       "    <tr>\n",
       "      <th>4tD0w86MTuA</th>\n",
       "      <td>7</td>\n",
       "      <td>0.058824</td>\n",
       "      <td>1</td>\n",
       "      <td>US BIOWARFARE   Controlling speech   Event 201...</td>\n",
       "      <td>34</td>\n",
       "      <td>okay here's an analysis of the infamous event ...</td>\n",
       "    </tr>\n",
       "  </tbody>\n",
       "</table>\n",
       "</div>"
      ],
      "text/plain": [
       "             Unnamed: 0  percentage_conspiracy  misinformation  \\\n",
       "video_id                                                         \n",
       "0jmhj-vnl5E           1               0.175439               1   \n",
       "1cWvGnF6_dw           3               0.153846               1   \n",
       "3DAI3c9wE0Q           4               0.225564               1   \n",
       "4G1LTpm1pkw           6               0.128049               1   \n",
       "4tD0w86MTuA           7               0.058824               1   \n",
       "\n",
       "                                                         title  \\\n",
       "video_id                                                         \n",
       "0jmhj-vnl5E  Is Wuhan virus a hit job? A whodunit not to mi...   \n",
       "1cWvGnF6_dw  The Book that Predicted the Wuhan Coronavirus:...   \n",
       "3DAI3c9wE0Q  Prof. Francis Boyle  Update on Coronavirus Bio...   \n",
       "4G1LTpm1pkw  God says  Coronavirus is NOT!  2020  by Warren...   \n",
       "4tD0w86MTuA  US BIOWARFARE   Controlling speech   Event 201...   \n",
       "\n",
       "             number_comments  \\\n",
       "video_id                       \n",
       "0jmhj-vnl5E              114   \n",
       "1cWvGnF6_dw               52   \n",
       "3DAI3c9wE0Q             1198   \n",
       "4G1LTpm1pkw              164   \n",
       "4tD0w86MTuA               34   \n",
       "\n",
       "                                                      captions  \n",
       "video_id                                                        \n",
       "0jmhj-vnl5E  good morning everybody this is Jeff J Browne C...  \n",
       "1cWvGnF6_dw  king at the bar book news or books teacher at ...  \n",
       "3DAI3c9wE0Q  I think I found the smoking gun here uh there ...  \n",
       "4G1LTpm1pkw  the the coronavirus and what does the Lord say...  \n",
       "4tD0w86MTuA  okay here's an analysis of the infamous event ...  "
      ]
     },
     "execution_count": 4,
     "metadata": {},
     "output_type": "execute_result"
    }
   ],
   "source": [
    "print(len(df_video2))\n",
    "df_video2.head()"
   ]
  },
  {
   "cell_type": "code",
   "execution_count": 5,
   "id": "3a99db40",
   "metadata": {},
   "outputs": [
    {
     "name": "stdout",
     "output_type": "stream",
     "text": [
      "80\n"
     ]
    },
    {
     "data": {
      "text/html": [
       "<div>\n",
       "<style scoped>\n",
       "    .dataframe tbody tr th:only-of-type {\n",
       "        vertical-align: middle;\n",
       "    }\n",
       "\n",
       "    .dataframe tbody tr th {\n",
       "        vertical-align: top;\n",
       "    }\n",
       "\n",
       "    .dataframe thead th {\n",
       "        text-align: right;\n",
       "    }\n",
       "</style>\n",
       "<table border=\"1\" class=\"dataframe\">\n",
       "  <thead>\n",
       "    <tr style=\"text-align: right;\">\n",
       "      <th></th>\n",
       "      <th>Unnamed: 0</th>\n",
       "      <th>video_id</th>\n",
       "      <th>idx</th>\n",
       "    </tr>\n",
       "  </thead>\n",
       "  <tbody>\n",
       "    <tr>\n",
       "      <th>0</th>\n",
       "      <td>0</td>\n",
       "      <td>0jmhj-vnl5E</td>\n",
       "      <td>0</td>\n",
       "    </tr>\n",
       "    <tr>\n",
       "      <th>1</th>\n",
       "      <td>1</td>\n",
       "      <td>1cWvGnF6_dw</td>\n",
       "      <td>1</td>\n",
       "    </tr>\n",
       "    <tr>\n",
       "      <th>2</th>\n",
       "      <td>2</td>\n",
       "      <td>3DAI3c9wE0Q</td>\n",
       "      <td>2</td>\n",
       "    </tr>\n",
       "    <tr>\n",
       "      <th>3</th>\n",
       "      <td>3</td>\n",
       "      <td>4G1LTpm1pkw</td>\n",
       "      <td>3</td>\n",
       "    </tr>\n",
       "    <tr>\n",
       "      <th>4</th>\n",
       "      <td>4</td>\n",
       "      <td>4tD0w86MTuA</td>\n",
       "      <td>4</td>\n",
       "    </tr>\n",
       "  </tbody>\n",
       "</table>\n",
       "</div>"
      ],
      "text/plain": [
       "   Unnamed: 0     video_id  idx\n",
       "0           0  0jmhj-vnl5E    0\n",
       "1           1  1cWvGnF6_dw    1\n",
       "2           2  3DAI3c9wE0Q    2\n",
       "3           3  4G1LTpm1pkw    3\n",
       "4           4  4tD0w86MTuA    4"
      ]
     },
     "execution_count": 5,
     "metadata": {},
     "output_type": "execute_result"
    }
   ],
   "source": [
    "print(len(df_caption2))\n",
    "df_caption2.head()"
   ]
  },
  {
   "cell_type": "code",
   "execution_count": 6,
   "id": "4d8e194a",
   "metadata": {},
   "outputs": [
    {
     "name": "stdout",
     "output_type": "stream",
     "text": [
      "111526\n"
     ]
    },
    {
     "data": {
      "text/html": [
       "<div>\n",
       "<style scoped>\n",
       "    .dataframe tbody tr th:only-of-type {\n",
       "        vertical-align: middle;\n",
       "    }\n",
       "\n",
       "    .dataframe tbody tr th {\n",
       "        vertical-align: top;\n",
       "    }\n",
       "\n",
       "    .dataframe thead th {\n",
       "        text-align: right;\n",
       "    }\n",
       "</style>\n",
       "<table border=\"1\" class=\"dataframe\">\n",
       "  <thead>\n",
       "    <tr style=\"text-align: right;\">\n",
       "      <th></th>\n",
       "      <th>Unnamed: 0</th>\n",
       "      <th>video_id</th>\n",
       "      <th>idx</th>\n",
       "    </tr>\n",
       "  </thead>\n",
       "  <tbody>\n",
       "    <tr>\n",
       "      <th>0</th>\n",
       "      <td>0</td>\n",
       "      <td>0jmhj-vnl5E</td>\n",
       "      <td>0</td>\n",
       "    </tr>\n",
       "    <tr>\n",
       "      <th>1</th>\n",
       "      <td>1</td>\n",
       "      <td>0jmhj-vnl5E</td>\n",
       "      <td>1</td>\n",
       "    </tr>\n",
       "    <tr>\n",
       "      <th>2</th>\n",
       "      <td>2</td>\n",
       "      <td>0jmhj-vnl5E</td>\n",
       "      <td>2</td>\n",
       "    </tr>\n",
       "    <tr>\n",
       "      <th>3</th>\n",
       "      <td>3</td>\n",
       "      <td>0jmhj-vnl5E</td>\n",
       "      <td>3</td>\n",
       "    </tr>\n",
       "    <tr>\n",
       "      <th>4</th>\n",
       "      <td>4</td>\n",
       "      <td>0jmhj-vnl5E</td>\n",
       "      <td>4</td>\n",
       "    </tr>\n",
       "  </tbody>\n",
       "</table>\n",
       "</div>"
      ],
      "text/plain": [
       "   Unnamed: 0     video_id  idx\n",
       "0           0  0jmhj-vnl5E    0\n",
       "1           1  0jmhj-vnl5E    1\n",
       "2           2  0jmhj-vnl5E    2\n",
       "3           3  0jmhj-vnl5E    3\n",
       "4           4  0jmhj-vnl5E    4"
      ]
     },
     "execution_count": 6,
     "metadata": {},
     "output_type": "execute_result"
    }
   ],
   "source": [
    "print(len(df_comment2))\n",
    "df_comment2.head()"
   ]
  },
  {
   "cell_type": "code",
   "execution_count": 7,
   "id": "f12b89c7",
   "metadata": {},
   "outputs": [
    {
     "name": "stdout",
     "output_type": "stream",
     "text": [
      "(80, 1, 768)\n",
      "(80,)\n",
      "(19, 768)\n",
      "(111526,)\n",
      "(1, 768)\n"
     ]
    }
   ],
   "source": [
    "print(title2.shape)\n",
    "print(caption2.shape)\n",
    "print(caption2[0].shape)\n",
    "print(comment2.shape)\n",
    "print(comment2[0].shape)"
   ]
  },
  {
   "cell_type": "code",
   "execution_count": 8,
   "id": "22b2abc0",
   "metadata": {},
   "outputs": [
    {
     "name": "stdout",
     "output_type": "stream",
     "text": [
      "(712, 768)\n",
      "(712,)\n"
     ]
    },
    {
     "data": {
      "text/plain": [
       "(None, None)"
      ]
     },
     "execution_count": 8,
     "metadata": {},
     "output_type": "execute_result"
    }
   ],
   "source": [
    "caption2_concat = np.empty((0, 768))\n",
    "video2_concat = np.empty(0)\n",
    "for i in range(len(caption2)):\n",
    "    caption2_concat = np.concatenate((caption2_concat, caption2[i]), axis=0)\n",
    "    video_id = df_caption2.iloc[i][\"video_id\"]\n",
    "    misinfo_label = df_video2.loc[video_id][\"misinformation\"]\n",
    "    misinfo_values = np.array([misinfo_label for _ in range(caption2[i].shape[0])])\n",
    "    video2_concat = np.concatenate((video2_concat, misinfo_values), axis=0)\n",
    "print(caption2_concat.shape), print(video2_concat.shape)"
   ]
  },
  {
   "cell_type": "code",
   "execution_count": 9,
   "id": "fa361bb5",
   "metadata": {},
   "outputs": [
    {
     "name": "stdout",
     "output_type": "stream",
     "text": [
      "(112002, 768)\n"
     ]
    }
   ],
   "source": [
    "comment2_concat = np.concatenate(comment2, axis=0)\n",
    "print(comment2_concat.shape)"
   ]
  },
  {
   "cell_type": "code",
   "execution_count": 10,
   "id": "d1260369",
   "metadata": {},
   "outputs": [
    {
     "name": "stdout",
     "output_type": "stream",
     "text": [
      "(112002, 768)\n",
      "(112002,)\n"
     ]
    },
    {
     "data": {
      "text/plain": [
       "(None, None)"
      ]
     },
     "execution_count": 10,
     "metadata": {},
     "output_type": "execute_result"
    }
   ],
   "source": [
    "video2_concat_2 = []\n",
    "\n",
    "for key, idx in df_comment2[['video_id', 'idx']].to_numpy():\n",
    "    misinfo_label = df_video2.loc[key][\"misinformation\"]\n",
    "    video2_concat_2 += [misinfo_label] * comment2[idx].shape[0]\n",
    "\n",
    "video2_concat_2 = np.array(video2_concat_2)\n",
    "print(comment2_concat.shape), print(video2_concat_2.shape)"
   ]
  },
  {
   "cell_type": "markdown",
   "id": "46b1f950",
   "metadata": {},
   "source": [
    "#### Visualizing titles"
   ]
  },
  {
   "cell_type": "code",
   "execution_count": 11,
   "id": "375e91b5",
   "metadata": {},
   "outputs": [
    {
     "data": {
      "text/plain": [
       "(80, 2)"
      ]
     },
     "execution_count": 11,
     "metadata": {},
     "output_type": "execute_result"
    }
   ],
   "source": [
    "title2 = title2.squeeze()\n",
    "tsne = TSNE(n_components=2, learning_rate=\"auto\", init=\"random\")\n",
    "X_embedded_title2 = tsne.fit_transform(title2)\n",
    "X_embedded_title2.shape"
   ]
  },
  {
   "cell_type": "code",
   "execution_count": 18,
   "id": "f78f5cbc",
   "metadata": {},
   "outputs": [
    {
     "data": {
      "image/png": "[encoded data removed]",
      "text/plain": [
       "<Figure size 648x432 with 1 Axes>"
      ]
     },
     "metadata": {
      "needs_background": "light"
     },
     "output_type": "display_data"
    }
   ],
   "source": [
    "plt.rcParams[\"figure.figsize\"] = (9, 6)\n",
    "#plt.rcParams[\"figure.figsize\"] = (15,15)\n",
    "\n",
    "indices = df_video2[\"misinformation\"].to_numpy()\n",
    "misinfo = np.where(indices == 1)\n",
    "non_misinfo = np.where(indices == 0)\n",
    "\n",
    "plt.scatter(X_embedded_title2[misinfo, 0], X_embedded_title2[misinfo, 1], color='r')\n",
    "plt.scatter(X_embedded_title2[non_misinfo, 0], X_embedded_title2[non_misinfo, 1], color='b')\n",
    "\n",
    "plt.show()"
   ]
  },
  {
   "cell_type": "markdown",
   "id": "68d17408",
   "metadata": {},
   "source": [
    "#### Visualizing captions"
   ]
  },
  {
   "cell_type": "code",
   "execution_count": 13,
   "id": "9fb8023f",
   "metadata": {},
   "outputs": [
    {
     "data": {
      "text/plain": [
       "(712, 2)"
      ]
     },
     "execution_count": 13,
     "metadata": {},
     "output_type": "execute_result"
    }
   ],
   "source": [
    "tsne = TSNE(n_components=2, learning_rate=\"auto\", init=\"random\")\n",
    "X_embedded_caption2 = tsne.fit_transform(caption2_concat)\n",
    "X_embedded_caption2.shape"
   ]
  },
  {
   "cell_type": "code",
   "execution_count": 20,
   "id": "21f8506b",
   "metadata": {},
   "outputs": [
    {
     "data": {
      "image/png": "[encoded data removed]",
      "text/plain": [
       "<Figure size 648x432 with 1 Axes>"
      ]
     },
     "metadata": {
      "needs_background": "light"
     },
     "output_type": "display_data"
    }
   ],
   "source": [
    "plt.rcParams[\"figure.figsize\"] = (9, 6)\n",
    "#plt.rcParams[\"figure.figsize\"] = (15,15)\n",
    "\n",
    "misinfo = np.where(video2_concat == 1)\n",
    "non_misinfo = np.where(video2_concat == 0)\n",
    "\n",
    "plt.scatter(X_embedded_caption2[misinfo, 0], X_embedded_caption2[misinfo, 1], color='r')\n",
    "plt.scatter(X_embedded_caption2[non_misinfo, 0], X_embedded_caption2[non_misinfo, 1], color='b')\n",
    "\n",
    "plt.show()"
   ]
  },
  {
   "cell_type": "markdown",
   "id": "d7f9a5ee",
   "metadata": {},
   "source": [
    "#### Visualizing comments"
   ]
  },
  {
   "cell_type": "code",
   "execution_count": 21,
   "id": "db8a33df",
   "metadata": {},
   "outputs": [
    {
     "data": {
      "text/plain": [
       "(112002, 2)"
      ]
     },
     "execution_count": 21,
     "metadata": {},
     "output_type": "execute_result"
    }
   ],
   "source": [
    "tsne = TSNE(n_components=2, learning_rate=\"auto\", init=\"random\")\n",
    "X_embedded_comment2 = tsne.fit_transform(comment2_concat)\n",
    "X_embedded_comment2.shape"
   ]
  },
  {
   "cell_type": "code",
   "execution_count": 27,
   "id": "6a9f96b8",
   "metadata": {},
   "outputs": [
    {
     "data": {
      "image/png": "[encoded data removed]",
      "text/plain": [
       "<Figure size 1080x1080 with 1 Axes>"
      ]
     },
     "metadata": {
      "needs_background": "light"
     },
     "output_type": "display_data"
    }
   ],
   "source": [
    "import random\n",
    "k = 0.05\n",
    "\n",
    "#plt.rcParams[\"figure.figsize\"] = (9, 6)\n",
    "plt.rcParams[\"figure.figsize\"] = (15,15)\n",
    "\n",
    "misinfo = np.where(video2_concat_2 == 1)[0]\n",
    "non_misinfo = np.where(video2_concat_2 == 0)[0]\n",
    "\n",
    "emb_misinfo_x = X_embedded_comment2[misinfo, 0]\n",
    "emb_misinfo_y = X_embedded_comment2[misinfo, 1]\n",
    "n = emb_misinfo_x.shape[0]\n",
    "sampled_ind = random.sample([i for i in range(n)], int(n * k))\n",
    "emb_misinfo_x = emb_misinfo_x[sampled_ind]\n",
    "emb_misinfo_y = emb_misinfo_y[sampled_ind]\n",
    "\n",
    "emb_nonmisinfo_x = X_embedded_comment2[non_misinfo, 0]\n",
    "emb_nonmisinfo_y = X_embedded_comment2[non_misinfo, 1]\n",
    "n = emb_nonmisinfo_x.shape[0]\n",
    "sampled_ind = random.sample([i for i in range(n)], int(n * k))\n",
    "emb_nonmisinfo_x = emb_nonmisinfo_x[sampled_ind]\n",
    "emb_nonmisinfo_y = emb_nonmisinfo_y[sampled_ind]\n",
    "\n",
    "plt.scatter(emb_misinfo_x, emb_misinfo_y, color='r', s=5)\n",
    "#plt.scatter(emb_nonmisinfo_x, emb_nonmisinfo_y, color='b', s=5)\n",
    "\n",
    "plt.show()"
   ]
  },
  {
   "cell_type": "code",
   "execution_count": null,
   "id": "a0c32497",
   "metadata": {},
   "outputs": [],
   "source": []
  }
 ],
 "metadata": {
  "kernelspec": {
   "display_name": "Python 3",
   "language": "python",
   "name": "python3"
  },
  "language_info": {
   "codemirror_mode": {
    "name": "ipython",
    "version": 3
   },
   "file_extension": ".py",
   "mimetype": "text/x-python",
   "name": "python",
   "nbconvert_exporter": "python",
   "pygments_lexer": "ipython3",
   "version": "3.8.10"
  }
 },
 "nbformat": 4,
 "nbformat_minor": 5
}
