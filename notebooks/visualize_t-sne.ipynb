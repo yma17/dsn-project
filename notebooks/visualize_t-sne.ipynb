{
 "cells": [
  {
   "cell_type": "markdown",
   "id": "3a270df1",
   "metadata": {},
   "source": [
    "This notebook is focused around using t-SNE to visualize embeddings for the project."
   ]
  },
  {
   "cell_type": "code",
   "execution_count": 1,
   "id": "c2c9dd7c",
   "metadata": {},
   "outputs": [],
   "source": [
    "# Import libraries\n",
    "import os\n",
    "import numpy as np\n",
    "from sklearn.manifold import TSNE\n",
    "import pandas as pd\n",
    "import matplotlib.pyplot as plt\n",
    "join = os.path.join"
   ]
  },
  {
   "cell_type": "code",
   "execution_count": 8,
   "id": "ce4587f4",
   "metadata": {},
   "outputs": [
    {
     "data": {
      "text/plain": [
       "'[[-0.29952383 -0.11527625 -0.08607307 ... -0.31241608 -0.23311584\\n   0.14590688]\\n [ 0.18770196 -0.3183752   0.65036726 ... -0.09871613 -0.04781162\\n  -0.15321511]]'"
      ]
     },
     "execution_count": 8,
     "metadata": {},
     "output_type": "execute_result"
    }
   ],
   "source": [
    "# Load data\n",
    "\n",
    "filepath = \"../\"\n",
    "\n",
    "filename = \"caption_embedd_2.csv\"\n",
    "filename = \"comment_embedd_2.csv\"\n",
    "\n",
    "df = pd.read_csv(join(filepath, filename))\n",
    "df.head()\n",
    "\n",
    "comment_embedding = df['comment_embedd']\n",
    "comment_embedding.loc[0]\n",
    "\n",
    "# title_embedding = df['title_embedd']\n",
    "# title_embedding.loc[0]"
   ]
  },
  {
   "cell_type": "code",
   "execution_count": null,
   "id": "696b110f",
   "metadata": {},
   "outputs": [],
   "source": [
    "# Run T-SNE\n",
    "X = np.array()  # TODO\n",
    "tsne = TSNE(n_components=2, learning_rate=\"auto\", init=\"random\")\n",
    "X_embedded = tsne.fit_transform(X)\n",
    "X_embedded.shape"
   ]
  },
  {
   "cell_type": "code",
   "execution_count": null,
   "id": "77dec66a",
   "metadata": {},
   "outputs": [],
   "source": [
    "# Visualize results\n",
    "plt.scatter(X_embedded[:, 0], X_embedded[:, 1])\n",
    "plt.show()"
   ]
  }
 ],
 "metadata": {
  "interpreter": {
   "hash": "b3ba2566441a7c06988d0923437866b63cedc61552a5af99d1f4fb67d367b25f"
  },
  "kernelspec": {
   "display_name": "Python 3.8.12 64-bit ('base': conda)",
   "name": "python3"
  },
  "language_info": {
   "codemirror_mode": {
    "name": "ipython",
    "version": 3
   },
   "file_extension": ".py",
   "mimetype": "text/x-python",
   "name": "python",
   "nbconvert_exporter": "python",
   "pygments_lexer": "ipython3",
   "version": "3.8.12"
  }
 },
 "nbformat": 4,
 "nbformat_minor": 5
}
