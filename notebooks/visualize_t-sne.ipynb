{
 "cells": [
  {
   "cell_type": "markdown",
   "id": "3a270df1",
   "metadata": {},
   "source": [
    "This notebook is focused around using t-SNE to visualize embeddings for the project."
   ]
  },
  {
   "cell_type": "code",
   "execution_count": null,
   "id": "c2c9dd7c",
   "metadata": {},
   "outputs": [],
   "source": [
    "# Import libraries\n",
    "import numpy as np\n",
    "from sklearn.manifold import TSNE\n",
    "import pandas as pd\n",
    "import os.path as osp\n",
    "import matplotlib.pyplot as plt"
   ]
  },
  {
   "cell_type": "code",
   "execution_count": null,
   "id": "ce4587f4",
   "metadata": {},
   "outputs": [],
   "source": [
    "# Load data\n",
    "\n",
    "filepath = \"./../data/tmp\"\n",
    "\n",
    "filename = \"channel_embedd_2.csv\"\n",
    "#filename = \"comment_embedd_1.csv\"\n",
    "\n",
    "df = pd.read_csv(osp.join(filepath, filename))"
   ]
  },
  {
   "cell_type": "code",
   "execution_count": null,
   "id": "696b110f",
   "metadata": {},
   "outputs": [],
   "source": [
    "# Run T-SNE\n",
    "X = np.array()  # TODO\n",
    "tsne = TSNE(n_components=2, learning_rate=\"auto\", init=\"random\")\n",
    "X_embedded = tsne.fit_transform(X)\n",
    "X_embedded.shape"
   ]
  },
  {
   "cell_type": "code",
   "execution_count": null,
   "id": "77dec66a",
   "metadata": {},
   "outputs": [],
   "source": [
    "# Visualize results\n",
    "plt.scatter(X_embedded[:, 0], X_embedded[:, 1])\n",
    "plt.show()"
   ]
  }
 ],
 "metadata": {
  "kernelspec": {
   "display_name": "Python 3",
   "language": "python",
   "name": "python3"
  },
  "language_info": {
   "codemirror_mode": {
    "name": "ipython",
    "version": 3
   },
   "file_extension": ".py",
   "mimetype": "text/x-python",
   "name": "python",
   "nbconvert_exporter": "python",
   "pygments_lexer": "ipython3",
   "version": "3.8.10"
  }
 },
 "nbformat": 4,
 "nbformat_minor": 5
}
